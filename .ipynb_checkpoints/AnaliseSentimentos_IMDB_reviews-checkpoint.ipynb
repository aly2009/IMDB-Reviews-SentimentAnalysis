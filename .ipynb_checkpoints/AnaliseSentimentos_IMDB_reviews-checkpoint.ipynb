{
 "cells": [
  {
   "cell_type": "markdown",
   "id": "987b23b8",
   "metadata": {},
   "source": [
    "## Análise de sentimentos - IMDB reviews - Pandas"
   ]
  },
  {
   "cell_type": "code",
   "execution_count": 1,
   "id": "e63a7caa",
   "metadata": {},
   "outputs": [],
   "source": [
    "# Medição do tempo de execução\n",
    "import time\n",
    "\n",
    "# Inicia a marcação do tempo\n",
    "st = time.time()"
   ]
  },
  {
   "cell_type": "code",
   "execution_count": 50,
   "id": "e66b082d",
   "metadata": {},
   "outputs": [],
   "source": [
    "import numpy as np\n",
    "import pandas as pd\n",
    "\n",
    "# NLP\n",
    "from nltk.tokenize import word_tokenize, RegexpTokenizer\n",
    "from nltk.corpus import stopwords\n",
    "\n",
    "# TF-IDF\n",
    "from sklearn.feature_extraction.text import TfidfVectorizer"
   ]
  },
  {
   "cell_type": "code",
   "execution_count": 51,
   "id": "50b04b58",
   "metadata": {},
   "outputs": [
    {
     "data": {
      "text/html": [
       "<div>\n",
       "<style scoped>\n",
       "    .dataframe tbody tr th:only-of-type {\n",
       "        vertical-align: middle;\n",
       "    }\n",
       "\n",
       "    .dataframe tbody tr th {\n",
       "        vertical-align: top;\n",
       "    }\n",
       "\n",
       "    .dataframe thead th {\n",
       "        text-align: right;\n",
       "    }\n",
       "</style>\n",
       "<table border=\"1\" class=\"dataframe\">\n",
       "  <thead>\n",
       "    <tr style=\"text-align: right;\">\n",
       "      <th></th>\n",
       "      <th>id</th>\n",
       "      <th>text_en</th>\n",
       "      <th>text_pt</th>\n",
       "      <th>sentiment</th>\n",
       "    </tr>\n",
       "  </thead>\n",
       "  <tbody>\n",
       "    <tr>\n",
       "      <th>0</th>\n",
       "      <td>1</td>\n",
       "      <td>Once again Mr. Costner has dragged out a movie...</td>\n",
       "      <td>Mais uma vez, o Sr. Costner arrumou um filme p...</td>\n",
       "      <td>neg</td>\n",
       "    </tr>\n",
       "    <tr>\n",
       "      <th>1</th>\n",
       "      <td>2</td>\n",
       "      <td>This is an example of why the majority of acti...</td>\n",
       "      <td>Este é um exemplo do motivo pelo qual a maiori...</td>\n",
       "      <td>neg</td>\n",
       "    </tr>\n",
       "    <tr>\n",
       "      <th>2</th>\n",
       "      <td>3</td>\n",
       "      <td>First of all I hate those moronic rappers, who...</td>\n",
       "      <td>Primeiro de tudo eu odeio esses raps imbecis, ...</td>\n",
       "      <td>neg</td>\n",
       "    </tr>\n",
       "    <tr>\n",
       "      <th>3</th>\n",
       "      <td>4</td>\n",
       "      <td>Not even the Beatles could write songs everyon...</td>\n",
       "      <td>Nem mesmo os Beatles puderam escrever músicas ...</td>\n",
       "      <td>neg</td>\n",
       "    </tr>\n",
       "    <tr>\n",
       "      <th>4</th>\n",
       "      <td>5</td>\n",
       "      <td>Brass pictures movies is not a fitting word fo...</td>\n",
       "      <td>Filmes de fotos de latão não é uma palavra apr...</td>\n",
       "      <td>neg</td>\n",
       "    </tr>\n",
       "  </tbody>\n",
       "</table>\n",
       "</div>"
      ],
      "text/plain": [
       "   id                                            text_en  \\\n",
       "0   1  Once again Mr. Costner has dragged out a movie...   \n",
       "1   2  This is an example of why the majority of acti...   \n",
       "2   3  First of all I hate those moronic rappers, who...   \n",
       "3   4  Not even the Beatles could write songs everyon...   \n",
       "4   5  Brass pictures movies is not a fitting word fo...   \n",
       "\n",
       "                                             text_pt sentiment  \n",
       "0  Mais uma vez, o Sr. Costner arrumou um filme p...       neg  \n",
       "1  Este é um exemplo do motivo pelo qual a maiori...       neg  \n",
       "2  Primeiro de tudo eu odeio esses raps imbecis, ...       neg  \n",
       "3  Nem mesmo os Beatles puderam escrever músicas ...       neg  \n",
       "4  Filmes de fotos de latão não é uma palavra apr...       neg  "
      ]
     },
     "execution_count": 51,
     "metadata": {},
     "output_type": "execute_result"
    }
   ],
   "source": [
    "# Carregamento dos dados\n",
    "data = pd.read_csv(\"./imdb-reviews-pt-br.csv\")\n",
    "data.head(5)"
   ]
  },
  {
   "cell_type": "code",
   "execution_count": 52,
   "id": "f77d2746",
   "metadata": {},
   "outputs": [
    {
     "data": {
      "text/html": [
       "<div>\n",
       "<style scoped>\n",
       "    .dataframe tbody tr th:only-of-type {\n",
       "        vertical-align: middle;\n",
       "    }\n",
       "\n",
       "    .dataframe tbody tr th {\n",
       "        vertical-align: top;\n",
       "    }\n",
       "\n",
       "    .dataframe thead th {\n",
       "        text-align: right;\n",
       "    }\n",
       "</style>\n",
       "<table border=\"1\" class=\"dataframe\">\n",
       "  <thead>\n",
       "    <tr style=\"text-align: right;\">\n",
       "      <th></th>\n",
       "      <th>id</th>\n",
       "      <th>text_en</th>\n",
       "      <th>text_pt</th>\n",
       "      <th>sentiment</th>\n",
       "      <th>texto_regex</th>\n",
       "      <th>texto_limpo</th>\n",
       "    </tr>\n",
       "  </thead>\n",
       "  <tbody>\n",
       "    <tr>\n",
       "      <th>0</th>\n",
       "      <td>1</td>\n",
       "      <td>Once again Mr. Costner has dragged out a movie...</td>\n",
       "      <td>Mais uma vez, o Sr. Costner arrumou um filme p...</td>\n",
       "      <td>neg</td>\n",
       "      <td>Mais uma vez o Sr Costner arrumou um filme por...</td>\n",
       "      <td>Mais uma vez o Sr Costner arrumou um filme por...</td>\n",
       "    </tr>\n",
       "    <tr>\n",
       "      <th>1</th>\n",
       "      <td>2</td>\n",
       "      <td>This is an example of why the majority of acti...</td>\n",
       "      <td>Este é um exemplo do motivo pelo qual a maiori...</td>\n",
       "      <td>neg</td>\n",
       "      <td>Este é um exemplo do motivo pelo qual a maiori...</td>\n",
       "      <td>Este é um exemplo do motivo pelo qual a maiori...</td>\n",
       "    </tr>\n",
       "    <tr>\n",
       "      <th>2</th>\n",
       "      <td>3</td>\n",
       "      <td>First of all I hate those moronic rappers, who...</td>\n",
       "      <td>Primeiro de tudo eu odeio esses raps imbecis, ...</td>\n",
       "      <td>neg</td>\n",
       "      <td>Primeiro de tudo eu odeio esses raps imbecis q...</td>\n",
       "      <td>Primeiro de tudo eu odeio esses raps imbecis q...</td>\n",
       "    </tr>\n",
       "    <tr>\n",
       "      <th>3</th>\n",
       "      <td>4</td>\n",
       "      <td>Not even the Beatles could write songs everyon...</td>\n",
       "      <td>Nem mesmo os Beatles puderam escrever músicas ...</td>\n",
       "      <td>neg</td>\n",
       "      <td>Nem mesmo os Beatles puderam escrever músicas ...</td>\n",
       "      <td>Nem mesmo os Beatles puderam escrever músicas ...</td>\n",
       "    </tr>\n",
       "    <tr>\n",
       "      <th>4</th>\n",
       "      <td>5</td>\n",
       "      <td>Brass pictures movies is not a fitting word fo...</td>\n",
       "      <td>Filmes de fotos de latão não é uma palavra apr...</td>\n",
       "      <td>neg</td>\n",
       "      <td>Filmes de fotos de latão não é uma palavra apr...</td>\n",
       "      <td>Filmes de fotos de latão não é uma palavra apr...</td>\n",
       "    </tr>\n",
       "  </tbody>\n",
       "</table>\n",
       "</div>"
      ],
      "text/plain": [
       "   id                                            text_en  \\\n",
       "0   1  Once again Mr. Costner has dragged out a movie...   \n",
       "1   2  This is an example of why the majority of acti...   \n",
       "2   3  First of all I hate those moronic rappers, who...   \n",
       "3   4  Not even the Beatles could write songs everyon...   \n",
       "4   5  Brass pictures movies is not a fitting word fo...   \n",
       "\n",
       "                                             text_pt sentiment  \\\n",
       "0  Mais uma vez, o Sr. Costner arrumou um filme p...       neg   \n",
       "1  Este é um exemplo do motivo pelo qual a maiori...       neg   \n",
       "2  Primeiro de tudo eu odeio esses raps imbecis, ...       neg   \n",
       "3  Nem mesmo os Beatles puderam escrever músicas ...       neg   \n",
       "4  Filmes de fotos de latão não é uma palavra apr...       neg   \n",
       "\n",
       "                                         texto_regex  \\\n",
       "0  Mais uma vez o Sr Costner arrumou um filme por...   \n",
       "1  Este é um exemplo do motivo pelo qual a maiori...   \n",
       "2  Primeiro de tudo eu odeio esses raps imbecis q...   \n",
       "3  Nem mesmo os Beatles puderam escrever músicas ...   \n",
       "4  Filmes de fotos de latão não é uma palavra apr...   \n",
       "\n",
       "                                         texto_limpo  \n",
       "0  Mais uma vez o Sr Costner arrumou um filme por...  \n",
       "1  Este é um exemplo do motivo pelo qual a maiori...  \n",
       "2  Primeiro de tudo eu odeio esses raps imbecis q...  \n",
       "3  Nem mesmo os Beatles puderam escrever músicas ...  \n",
       "4  Filmes de fotos de latão não é uma palavra apr...  "
      ]
     },
     "execution_count": 52,
     "metadata": {},
     "output_type": "execute_result"
    }
   ],
   "source": [
    "# Limpa os caracteres especiais e espaços do texto\n",
    "data['texto_regex'] = data['text_pt'].str.replace(\"[\\$#,\\\"!%&'()*+-./;;<=>?@^_`´{|}~\\\\\\\\]\", '', regex=True)\n",
    "data['texto_limpo'] = data['texto_regex'].str.strip()\n",
    "\n",
    "data.head(5)"
   ]
  },
  {
   "cell_type": "code",
   "execution_count": 53,
   "id": "1dfab1ad",
   "metadata": {},
   "outputs": [],
   "source": [
    "#data.drop('id', axis=1, inplace=True) #Acrescentado para teste e verificação da acurácia"
   ]
  },
  {
   "cell_type": "code",
   "execution_count": 54,
   "id": "ad21401b",
   "metadata": {},
   "outputs": [],
   "source": [
    "import nltk\n",
    "\n",
    "# Word Tokenizer\n",
    "tokenizer = nltk.tokenize.word_tokenize\n",
    "\n",
    "# Remove stopwords\n",
    "def preprocess_text(data):\n",
    "    stop = stopwords.words('portuguese') # Lista as stop words\n",
    "    data = data.str.lower() # Converte todas as letras para minúsculas\n",
    "    data = data.apply(lambda x:' '.join([words for words in x.split() if words not in stop])) # Remove as stop words\n",
    "    return data\n",
    "\n",
    "data['tokens'] = preprocess_text(data['texto_limpo']) "
   ]
  },
  {
   "cell_type": "code",
   "execution_count": 55,
   "id": "c0eecdfd",
   "metadata": {},
   "outputs": [
    {
     "data": {
      "text/html": [
       "<div>\n",
       "<style scoped>\n",
       "    .dataframe tbody tr th:only-of-type {\n",
       "        vertical-align: middle;\n",
       "    }\n",
       "\n",
       "    .dataframe tbody tr th {\n",
       "        vertical-align: top;\n",
       "    }\n",
       "\n",
       "    .dataframe thead th {\n",
       "        text-align: right;\n",
       "    }\n",
       "</style>\n",
       "<table border=\"1\" class=\"dataframe\">\n",
       "  <thead>\n",
       "    <tr style=\"text-align: right;\">\n",
       "      <th></th>\n",
       "      <th>id</th>\n",
       "      <th>text_en</th>\n",
       "      <th>text_pt</th>\n",
       "      <th>sentiment</th>\n",
       "      <th>texto_regex</th>\n",
       "      <th>texto_limpo</th>\n",
       "      <th>tokens</th>\n",
       "      <th>label</th>\n",
       "    </tr>\n",
       "  </thead>\n",
       "  <tbody>\n",
       "    <tr>\n",
       "      <th>0</th>\n",
       "      <td>1</td>\n",
       "      <td>Once again Mr. Costner has dragged out a movie...</td>\n",
       "      <td>Mais uma vez, o Sr. Costner arrumou um filme p...</td>\n",
       "      <td>neg</td>\n",
       "      <td>Mais uma vez o Sr Costner arrumou um filme por...</td>\n",
       "      <td>Mais uma vez o Sr Costner arrumou um filme por...</td>\n",
       "      <td>vez sr costner arrumou filme tempo necessário ...</td>\n",
       "      <td>0</td>\n",
       "    </tr>\n",
       "    <tr>\n",
       "      <th>1</th>\n",
       "      <td>2</td>\n",
       "      <td>This is an example of why the majority of acti...</td>\n",
       "      <td>Este é um exemplo do motivo pelo qual a maiori...</td>\n",
       "      <td>neg</td>\n",
       "      <td>Este é um exemplo do motivo pelo qual a maiori...</td>\n",
       "      <td>Este é um exemplo do motivo pelo qual a maiori...</td>\n",
       "      <td>exemplo motivo maioria filmes ação mesmos gené...</td>\n",
       "      <td>0</td>\n",
       "    </tr>\n",
       "    <tr>\n",
       "      <th>2</th>\n",
       "      <td>3</td>\n",
       "      <td>First of all I hate those moronic rappers, who...</td>\n",
       "      <td>Primeiro de tudo eu odeio esses raps imbecis, ...</td>\n",
       "      <td>neg</td>\n",
       "      <td>Primeiro de tudo eu odeio esses raps imbecis q...</td>\n",
       "      <td>Primeiro de tudo eu odeio esses raps imbecis q...</td>\n",
       "      <td>primeiro tudo odeio raps imbecis poderiam agir...</td>\n",
       "      <td>0</td>\n",
       "    </tr>\n",
       "    <tr>\n",
       "      <th>3</th>\n",
       "      <td>4</td>\n",
       "      <td>Not even the Beatles could write songs everyon...</td>\n",
       "      <td>Nem mesmo os Beatles puderam escrever músicas ...</td>\n",
       "      <td>neg</td>\n",
       "      <td>Nem mesmo os Beatles puderam escrever músicas ...</td>\n",
       "      <td>Nem mesmo os Beatles puderam escrever músicas ...</td>\n",
       "      <td>beatles puderam escrever músicas todos gostass...</td>\n",
       "      <td>0</td>\n",
       "    </tr>\n",
       "    <tr>\n",
       "      <th>4</th>\n",
       "      <td>5</td>\n",
       "      <td>Brass pictures movies is not a fitting word fo...</td>\n",
       "      <td>Filmes de fotos de latão não é uma palavra apr...</td>\n",
       "      <td>neg</td>\n",
       "      <td>Filmes de fotos de latão não é uma palavra apr...</td>\n",
       "      <td>Filmes de fotos de latão não é uma palavra apr...</td>\n",
       "      <td>filmes fotos latão palavra apropriada verdade ...</td>\n",
       "      <td>0</td>\n",
       "    </tr>\n",
       "  </tbody>\n",
       "</table>\n",
       "</div>"
      ],
      "text/plain": [
       "   id                                            text_en  \\\n",
       "0   1  Once again Mr. Costner has dragged out a movie...   \n",
       "1   2  This is an example of why the majority of acti...   \n",
       "2   3  First of all I hate those moronic rappers, who...   \n",
       "3   4  Not even the Beatles could write songs everyon...   \n",
       "4   5  Brass pictures movies is not a fitting word fo...   \n",
       "\n",
       "                                             text_pt sentiment  \\\n",
       "0  Mais uma vez, o Sr. Costner arrumou um filme p...       neg   \n",
       "1  Este é um exemplo do motivo pelo qual a maiori...       neg   \n",
       "2  Primeiro de tudo eu odeio esses raps imbecis, ...       neg   \n",
       "3  Nem mesmo os Beatles puderam escrever músicas ...       neg   \n",
       "4  Filmes de fotos de latão não é uma palavra apr...       neg   \n",
       "\n",
       "                                         texto_regex  \\\n",
       "0  Mais uma vez o Sr Costner arrumou um filme por...   \n",
       "1  Este é um exemplo do motivo pelo qual a maiori...   \n",
       "2  Primeiro de tudo eu odeio esses raps imbecis q...   \n",
       "3  Nem mesmo os Beatles puderam escrever músicas ...   \n",
       "4  Filmes de fotos de latão não é uma palavra apr...   \n",
       "\n",
       "                                         texto_limpo  \\\n",
       "0  Mais uma vez o Sr Costner arrumou um filme por...   \n",
       "1  Este é um exemplo do motivo pelo qual a maiori...   \n",
       "2  Primeiro de tudo eu odeio esses raps imbecis q...   \n",
       "3  Nem mesmo os Beatles puderam escrever músicas ...   \n",
       "4  Filmes de fotos de latão não é uma palavra apr...   \n",
       "\n",
       "                                              tokens  label  \n",
       "0  vez sr costner arrumou filme tempo necessário ...      0  \n",
       "1  exemplo motivo maioria filmes ação mesmos gené...      0  \n",
       "2  primeiro tudo odeio raps imbecis poderiam agir...      0  \n",
       "3  beatles puderam escrever músicas todos gostass...      0  \n",
       "4  filmes fotos latão palavra apropriada verdade ...      0  "
      ]
     },
     "execution_count": 55,
     "metadata": {},
     "output_type": "execute_result"
    }
   ],
   "source": [
    "# Criação de label para o sentimento\n",
    "data['label'] = data['sentiment'].map({'neg':0,'pos':1})\n",
    "data.head(5)"
   ]
  },
  {
   "cell_type": "code",
   "execution_count": 56,
   "id": "67f69938",
   "metadata": {},
   "outputs": [],
   "source": [
    "# Vetorização TF-IDF\n",
    "from sklearn.feature_extraction.text import TfidfVectorizer\n",
    "\n",
    "tfidf=TfidfVectorizer(strip_accents=None,lowercase=False,preprocessor=None,use_idf=True,norm='l2',smooth_idf=True)\n",
    "y=data.label.values\n",
    "x=tfidf.fit_transform(data.tokens)"
   ]
  },
  {
   "cell_type": "code",
   "execution_count": 57,
   "id": "d076fb55",
   "metadata": {},
   "outputs": [],
   "source": [
    "# Separa os dados em um conjunto de treinamento e outro de teste\n",
    "from sklearn.model_selection import train_test_split\n",
    "X_train,X_test,y_train,y_test=train_test_split(x,y,random_state=1,test_size=0.3,shuffle=True)"
   ]
  },
  {
   "cell_type": "code",
   "execution_count": 10,
   "id": "aa1b30f1",
   "metadata": {},
   "outputs": [],
   "source": [
    "# Criação do modelo\n",
    "from sklearn.tree import DecisionTreeClassifier\n",
    "clf=DecisionTreeClassifier(random_state=101).fit(X_train,y_train)\n",
    "y_pred = clf.predict(X_test)"
   ]
  },
  {
   "cell_type": "code",
   "execution_count": 11,
   "id": "c15b41e6",
   "metadata": {},
   "outputs": [
    {
     "name": "stdout",
     "output_type": "stream",
     "text": [
      "Accuracy = 0.973379161612077\n"
     ]
    }
   ],
   "source": [
    "# Calcula a acuracia do modelo\n",
    "from sklearn import metrics\n",
    "\n",
    "acuracia_sklearn = metrics.accuracy_score(y_test, y_pred)\n",
    "print(\"Accuracy =\", acuracia_sklearn )"
   ]
  },
  {
   "cell_type": "code",
   "execution_count": 12,
   "id": "08c44e0f",
   "metadata": {},
   "outputs": [],
   "source": [
    "# obtém o tempo final\n",
    "et = time.time()\n",
    "\n",
    "# calcula o tempo de execução\n",
    "elapsed_time_sklearn = et - st"
   ]
  },
  {
   "cell_type": "code",
   "execution_count": null,
   "id": "63d7cfeb",
   "metadata": {},
   "outputs": [],
   "source": []
  },
  {
   "cell_type": "markdown",
   "id": "15737f75",
   "metadata": {},
   "source": [
    "## Análise de sentimentos - IMDB reviews - Pyspark"
   ]
  },
  {
   "cell_type": "code",
   "execution_count": 13,
   "id": "0cba015f",
   "metadata": {},
   "outputs": [],
   "source": [
    "# Medição do tempo de execução\n",
    "import time\n",
    "\n",
    "# Inicia a marcação do tempo\n",
    "st = time.time()"
   ]
  },
  {
   "cell_type": "code",
   "execution_count": 14,
   "id": "7863bf33",
   "metadata": {},
   "outputs": [],
   "source": [
    "# Cria a sessão no Pyspark\n",
    "from pyspark.sql import SparkSession\n",
    "\n",
    "spark = SparkSession.builder \\\n",
    "    .master('local[*]') \\\n",
    "    .appName(\"AnaliseNLP\") \\\n",
    "    .getOrCreate()"
   ]
  },
  {
   "cell_type": "code",
   "execution_count": 15,
   "id": "46e319cf",
   "metadata": {},
   "outputs": [],
   "source": [
    "# Faz a leitura da base\n",
    "dados = spark.read.csv(\"./imdb-reviews-pt-br.csv\",\n",
    "                       escape=\"\\\"\",\n",
    "                       header=True,\n",
    "                       inferSchema=True)"
   ]
  },
  {
   "cell_type": "code",
   "execution_count": 16,
   "id": "04e8fdfd",
   "metadata": {},
   "outputs": [
    {
     "name": "stdout",
     "output_type": "stream",
     "text": [
      "root\n",
      " |-- id: integer (nullable = true)\n",
      " |-- text_en: string (nullable = true)\n",
      " |-- text_pt: string (nullable = true)\n",
      " |-- sentiment: string (nullable = true)\n",
      "\n"
     ]
    }
   ],
   "source": [
    "# Mostra o schema dos dados\n",
    "dados.printSchema()"
   ]
  },
  {
   "cell_type": "code",
   "execution_count": 17,
   "id": "a2aa9a65",
   "metadata": {},
   "outputs": [
    {
     "name": "stdout",
     "output_type": "stream",
     "text": [
      "+---+--------------------+--------------------+---------+\n",
      "| id|             text_en|             text_pt|sentiment|\n",
      "+---+--------------------+--------------------+---------+\n",
      "|  1|Once again Mr. Co...|Mais uma vez, o S...|      neg|\n",
      "|  2|This is an exampl...|Este é um exemplo...|      neg|\n",
      "|  3|First of all I ha...|Primeiro de tudo ...|      neg|\n",
      "|  4|Not even the Beat...|Nem mesmo os Beat...|      neg|\n",
      "|  5|Brass pictures mo...|Filmes de fotos d...|      neg|\n",
      "+---+--------------------+--------------------+---------+\n",
      "only showing top 5 rows\n",
      "\n"
     ]
    }
   ],
   "source": [
    "dados.show(5)"
   ]
  },
  {
   "cell_type": "code",
   "execution_count": 18,
   "id": "2e7bf13d",
   "metadata": {},
   "outputs": [
    {
     "name": "stdout",
     "output_type": "stream",
     "text": [
      "+---+--------------------+--------------------+---------+--------------------+--------------------+\n",
      "| id|             text_en|             text_pt|sentiment|         texto_regex|         texto_limpo|\n",
      "+---+--------------------+--------------------+---------+--------------------+--------------------+\n",
      "|  1|Once again Mr. Co...|Mais uma vez, o S...|      neg|Mais uma vez o Sr...|Mais uma vez o Sr...|\n",
      "|  2|This is an exampl...|Este é um exemplo...|      neg|Este é um exemplo...|Este é um exemplo...|\n",
      "|  3|First of all I ha...|Primeiro de tudo ...|      neg|Primeiro de tudo ...|Primeiro de tudo ...|\n",
      "|  4|Not even the Beat...|Nem mesmo os Beat...|      neg|Nem mesmo os Beat...|Nem mesmo os Beat...|\n",
      "|  5|Brass pictures mo...|Filmes de fotos d...|      neg|Filmes de fotos d...|Filmes de fotos d...|\n",
      "+---+--------------------+--------------------+---------+--------------------+--------------------+\n",
      "only showing top 5 rows\n",
      "\n"
     ]
    }
   ],
   "source": [
    "# Limpa os caracteres especiais e espaços do texto\n",
    "import pyspark.sql.functions as f\n",
    "dados = dados.withColumn(\"texto_regex\", f.regexp_replace(\"text_pt\", \"[\\$#,\\\"!%&'()*+-./;;<=>?@^_`´{|}~\\\\\\\\]\", \"\"))\n",
    "dados = dados.withColumn(\"texto_limpo\", f.trim(dados.texto_regex))\n",
    "\n",
    "dados.show(5)"
   ]
  },
  {
   "cell_type": "code",
   "execution_count": 19,
   "id": "9810681e",
   "metadata": {},
   "outputs": [],
   "source": [
    "#dados = dados.drop(\"id\") # Acrescentado para teste e verificação da acurácia"
   ]
  },
  {
   "cell_type": "code",
   "execution_count": 20,
   "id": "fa90af41",
   "metadata": {},
   "outputs": [],
   "source": [
    "# Importa as bibliotecas necessárias\n",
    "from pyspark.ml.feature import Tokenizer, StopWordsRemover, CountVectorizer, HashingTF, IDF #Tokenizer do pyspark já faz o tolower"
   ]
  },
  {
   "cell_type": "code",
   "execution_count": 21,
   "id": "7d3105c4",
   "metadata": {},
   "outputs": [],
   "source": [
    "# Criação de label para o sentimento\n",
    "from pyspark.ml.feature import StringIndexer\n",
    "\n",
    "stringindexer = StringIndexer(inputCol=\"sentiment\", outputCol=\"label\")\n",
    "dados = stringindexer.fit(dados).transform(dados)"
   ]
  },
  {
   "cell_type": "code",
   "execution_count": 22,
   "id": "173a38ec",
   "metadata": {},
   "outputs": [
    {
     "name": "stdout",
     "output_type": "stream",
     "text": [
      "+---------+-----+-----+\n",
      "|sentiment|label|count|\n",
      "+---------+-----+-----+\n",
      "|      pos|  1.0|74082|\n",
      "|      neg|  0.0|74295|\n",
      "+---------+-----+-----+\n",
      "\n"
     ]
    }
   ],
   "source": [
    "# Contagem de sentimentos\n",
    "dados.groupBy(['sentiment','label']).count().show()"
   ]
  },
  {
   "cell_type": "code",
   "execution_count": 23,
   "id": "3732fc18",
   "metadata": {},
   "outputs": [],
   "source": [
    "# Criação do pipeline de pré-processamento\n",
    "from pyspark.ml import Pipeline\n",
    "from pyspark.ml.classification import DecisionTreeClassifier\n",
    "\n",
    "# Passos do pipeline\n",
    "tokenizer = Tokenizer(inputCol = \"texto_limpo\", outputCol = \"tokens\") # Tokenizador\n",
    "stopwords = StopWordsRemover(inputCol=\"tokens\", outputCol=\"texto_final\") # Stop Words\n",
    "hashingTF = HashingTF(inputCol=stopwords.getOutputCol(), outputCol=\"HTF\", numFeatures=1000) # HashingTF\n",
    "tfidf = IDF(inputCol=\"HTF\", outputCol=\"features\") # TF-IDF\n",
    "dt = DecisionTreeClassifier(featuresCol='features', labelCol='label') # Decision Tree\n",
    "\n",
    "pipeline = Pipeline(stages = [tokenizer, stopwords, hashingTF, tfidf, dt]) # Cria o pipeline"
   ]
  },
  {
   "cell_type": "code",
   "execution_count": 24,
   "id": "45ba9623",
   "metadata": {},
   "outputs": [],
   "source": [
    "# Separa os dados em um conjunto de treinamento e outro de teste\n",
    "train, test = dados.randomSplit([0.7, 0.3], seed = 101)"
   ]
  },
  {
   "cell_type": "code",
   "execution_count": 25,
   "id": "fcc81406",
   "metadata": {},
   "outputs": [],
   "source": [
    "# Treina o modelo\n",
    "dt_model = pipeline.fit(train)"
   ]
  },
  {
   "cell_type": "code",
   "execution_count": 26,
   "id": "3fcfce49",
   "metadata": {},
   "outputs": [
    {
     "name": "stdout",
     "output_type": "stream",
     "text": [
      "+-----+----------+\n",
      "|label|prediction|\n",
      "+-----+----------+\n",
      "|  0.0|       1.0|\n",
      "|  0.0|       1.0|\n",
      "|  0.0|       0.0|\n",
      "|  0.0|       1.0|\n",
      "|  0.0|       0.0|\n",
      "+-----+----------+\n",
      "only showing top 5 rows\n",
      "\n"
     ]
    }
   ],
   "source": [
    "# Faz a predição\n",
    "predictions = dt_model.transform(test)\n",
    "predictions.select(['label', 'prediction']).show(5)"
   ]
  },
  {
   "cell_type": "code",
   "execution_count": 27,
   "id": "c988bb39",
   "metadata": {},
   "outputs": [
    {
     "name": "stdout",
     "output_type": "stream",
     "text": [
      "Accuracy = 0.6456274786583317\n"
     ]
    }
   ],
   "source": [
    "# Calcula a acuracia do modelo\n",
    "from pyspark.ml.evaluation import MulticlassClassificationEvaluator\n",
    "\n",
    "evaluator = MulticlassClassificationEvaluator(labelCol='label', predictionCol='prediction', metricName='accuracy')\n",
    "\n",
    "acuracia_pyspark = evaluator.evaluate(predictions)\n",
    "print(\"Accuracy =\", acuracia_pyspark)"
   ]
  },
  {
   "cell_type": "code",
   "execution_count": 28,
   "id": "a21ba24b",
   "metadata": {},
   "outputs": [],
   "source": [
    "# Encerra a sessão do Pyspark\n",
    "spark.stop()"
   ]
  },
  {
   "cell_type": "code",
   "execution_count": 29,
   "id": "569f25c7",
   "metadata": {},
   "outputs": [],
   "source": [
    "# obtém o tempo final\n",
    "et = time.time()\n",
    "\n",
    "# calcula o tempo de execução\n",
    "elapsed_time_pyspark = et - st"
   ]
  },
  {
   "cell_type": "code",
   "execution_count": 30,
   "id": "3f6776bb",
   "metadata": {},
   "outputs": [
    {
     "name": "stdout",
     "output_type": "stream",
     "text": [
      "Execution time - SKLearn: 568.9964170455933 seconds\n",
      "Accuracy = 0.973379161612077\n",
      " \n",
      "Execution time - PySpark: 184.4339418411255 seconds\n",
      "Accuracy = 0.6456274786583317\n"
     ]
    }
   ],
   "source": [
    "# Mostra os tempos de execução do SKLearn e do PySpark, bem como sua acurácia\n",
    "print('Execution time - SKLearn:', elapsed_time_sklearn, 'seconds')\n",
    "print(\"Accuracy =\", acuracia_sklearn )\n",
    "print(\" \")\n",
    "print('Execution time - PySpark:', elapsed_time_pyspark, 'seconds')\n",
    "print(\"Accuracy =\", acuracia_pyspark )"
   ]
  },
  {
   "cell_type": "code",
   "execution_count": null,
   "id": "129464f3",
   "metadata": {},
   "outputs": [],
   "source": []
  },
  {
   "cell_type": "markdown",
   "id": "63f99438",
   "metadata": {},
   "source": [
    "## Plotagens dos gráficos"
   ]
  },
  {
   "cell_type": "code",
   "execution_count": 46,
   "id": "a2baf4be",
   "metadata": {},
   "outputs": [
    {
     "data": {
      "image/png": "[encoded data removed]",
      "text/plain": [
       "<Figure size 640x480 with 1 Axes>"
      ]
     },
     "metadata": {},
     "output_type": "display_data"
    }
   ],
   "source": [
    "import matplotlib.pyplot as plt\n",
    "\n",
    "%matplotlib inline\n",
    "\n",
    "# Define two lists\n",
    "y = [129.211, 282.943, 381.639, 568.996, 674.171] #Pandas\n",
    "y2 = [65.526, 123.766, 156.493, 242.068, 370.85] #Pyspark\n",
    "\n",
    "\n",
    "plt.title('Pandas X Pyspark - IMDB Reviews', color='black', size=12)\n",
    "\n",
    "# Plot lists and show them\n",
    "plt.plot(y, 'go-', label=\"Pandas\")\n",
    "plt.plot(y2, 'bo-', label=\"Pyspark\")\n",
    "\n",
    "plt.xticks([0,1,2,3,4])\n",
    "\n",
    "# Plot axes labels and show the plot\n",
    "plt.xlabel('Arquivo')\n",
    "plt.ylabel('Tempo de execução (s)')\n",
    "plt.legend(loc=\"upper left\")\n",
    "plt.show()"
   ]
  },
  {
   "cell_type": "code",
   "execution_count": 32,
   "id": "6fd2378e",
   "metadata": {},
   "outputs": [
    {
     "data": {
      "image/png": "[encoded data removed]",
      "text/plain": [
       "<Figure size 640x480 with 1 Axes>"
      ]
     },
     "metadata": {},
     "output_type": "display_data"
    }
   ],
   "source": [
    "import matplotlib.pyplot as plt\n",
    "\n",
    "%matplotlib inline\n",
    "\n",
    "# Define two lists\n",
    "y = [0.708, 0.91, 0.973, 0.992, 0.997] #Pandas\n",
    "y2 = [0.643, 0.65, 0.646, 0.648, 0.65] #Pyspark\n",
    "\n",
    "\n",
    "plt.title('Pandas X Pyspark - IMDB Reviews', color='black', size=12)\n",
    "\n",
    "# Plot lists and show them\n",
    "plt.plot(y, 'go-', label=\"Pandas\")\n",
    "plt.plot(y2, 'bo-', label=\"Pyspark\")\n",
    "\n",
    "plt.xticks([0,1,2,3,4])\n",
    "\n",
    "# Plot axes labels and show the plot\n",
    "plt.xlabel('Arquivo')\n",
    "plt.ylabel('Acurácia')\n",
    "plt.legend(loc=\"upper left\")\n",
    "plt.show()"
   ]
  },
  {
   "cell_type": "code",
   "execution_count": 33,
   "id": "aed2de05",
   "metadata": {},
   "outputs": [
    {
     "data": {
      "image/png": "[encoded data removed]",
      "text/plain": [
       "<Figure size 640x480 with 1 Axes>"
      ]
     },
     "metadata": {},
     "output_type": "display_data"
    }
   ],
   "source": [
    "import matplotlib.pyplot as plt\n",
    "\n",
    "%matplotlib inline\n",
    "\n",
    "# Define two lists\n",
    "y = [6.672, 9.118, 22.475, 29.857, 34.563 ] #Pandas\n",
    "y2 = [56.576, 62.740, 80.465, 103.578, 115.565] #Pyspark\n",
    "\n",
    "\n",
    "plt.title('Pandas X Pyspark - Logs HDFS', color='black', size=12)\n",
    "\n",
    "# Plot lists and show them\n",
    "plt.plot(y, 'go-', label=\"Pandas\")\n",
    "plt.plot(y2, 'bo-', label=\"Pyspark\")\n",
    "\n",
    "plt.xticks([0,1,2,3,4])\n",
    "\n",
    "# Plot axes labels and show the plot\n",
    "plt.xlabel('Arquivo')\n",
    "plt.ylabel('Tempo de execução (s)')\n",
    "plt.legend(loc=\"upper left\")\n",
    "plt.show()"
   ]
  },
  {
   "cell_type": "code",
   "execution_count": 34,
   "id": "3fa9b828",
   "metadata": {},
   "outputs": [
    {
     "data": {
      "image/png": "[encoded data removed]",
      "text/plain": [
       "<Figure size 640x480 with 1 Axes>"
      ]
     },
     "metadata": {},
     "output_type": "display_data"
    }
   ],
   "source": [
    "import matplotlib.pyplot as plt\n",
    "\n",
    "%matplotlib inline\n",
    "\n",
    "# Define two lists\n",
    "y = [0.97, 0.97, 0.97, 0.97, 0.97] #Pandas\n",
    "y2 = [0.97, 0.97, 0.97, 0.97, 0.97] #Pyspark\n",
    "\n",
    "\n",
    "plt.title('Pandas X Pyspark - Logs HDFS', color='black', size=12)\n",
    "\n",
    "# Plot lists and show them\n",
    "plt.plot(y, 'go-', label=\"Pandas\")\n",
    "plt.plot(y2, 'bo-', label=\"Pyspark\")\n",
    "\n",
    "plt.xticks([0,1,2,3,4])\n",
    "\n",
    "# Plot axes labels and show the plot\n",
    "plt.xlabel('Arquivo')\n",
    "plt.ylabel('Acurácia')\n",
    "plt.legend(loc=\"center left\")\n",
    "plt.show()"
   ]
  },
  {
   "cell_type": "code",
   "execution_count": null,
   "id": "a975a8ac",
   "metadata": {},
   "outputs": [],
   "source": []
  },
  {
   "cell_type": "code",
   "execution_count": null,
   "id": "ebeb7298",
   "metadata": {},
   "outputs": [],
   "source": []
  }
 ],
 "metadata": {
  "kernelspec": {
   "display_name": "Python 3 (ipykernel)",
   "language": "python",
   "name": "python3"
  },
  "language_info": {
   "codemirror_mode": {
    "name": "ipython",
    "version": 3
   },
   "file_extension": ".py",
   "mimetype": "text/x-python",
   "name": "python",
   "nbconvert_exporter": "python",
   "pygments_lexer": "ipython3",
   "version": "3.9.12"
  }
 },
 "nbformat": 4,
 "nbformat_minor": 5
}
